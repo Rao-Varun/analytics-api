{
 "cells": [
  {
   "cell_type": "code",
   "execution_count": 22,
   "id": "bcf11cb3",
   "metadata": {},
   "outputs": [],
   "source": [
    "import requests\n"
   ]
  },
  {
   "cell_type": "code",
   "execution_count": 20,
   "id": "6499b642",
   "metadata": {},
   "outputs": [
    {
     "name": "stdout",
     "output_type": "stream",
     "text": [
      "http://localhost:8002/api/events/2\n"
     ]
    }
   ],
   "source": [
    "path_int = \"/api/events/2\"\n",
    "base_url = \"http://localhost:8002\"\n",
    "endpoint = f\"{base_url}{path_int}\"\n",
    "print(endpoint)"
   ]
  },
  {
   "cell_type": "code",
   "execution_count": 21,
   "id": "fb3e6f40",
   "metadata": {},
   "outputs": [
    {
     "name": "stdout",
     "output_type": "stream",
     "text": [
      "200\n",
      "True\n",
      "{'page': '/register', 'user_agent': 'Mozilla/5.0 (compatible; MSIE 7.0; Windows NT 6.2; Trident/4.1)', 'id': 2, 'ip_address': '158.111.229.81', 'referrer': 'https://bitbucket.org', 'time': '2025-09-29T23:45:15.171804Z', 'session_id': '55350675-1c9c-4d4c-aff0-9a9d78ee6438', 'duration': 287}\n"
     ]
    }
   ],
   "source": [
    "response = requests.get(endpoint)\n",
    "print(response.status_code)\n",
    "print(response.ok)\n",
    "if response.ok:\n",
    "    print(response.json())\n"
   ]
  },
  {
   "cell_type": "code",
   "execution_count": 23,
   "id": "c72e043c",
   "metadata": {},
   "outputs": [
    {
     "name": "stdout",
     "output_type": "stream",
     "text": [
      "http://localhost:8002/api/events/test\n",
      "422\n",
      "False\n",
      "{'detail': [{'type': 'int_parsing', 'loc': ['path', 'event_id'], 'msg': 'Input should be a valid integer, unable to parse string as an integer', 'input': 'test'}]}\n"
     ]
    }
   ],
   "source": [
    "path_str = \"/api/events/test\"\n",
    "endpoint = f\"{base_url}{path_str}\"\n",
    "print(endpoint)\n",
    "response = requests.get(endpoint)\n",
    "print(response.status_code)\n",
    "print(response.ok)\n",
    "if not response.ok:\n",
    "    print(response.json())\n"
   ]
  },
  {
   "cell_type": "code",
   "execution_count": null,
   "id": "13c61795",
   "metadata": {},
   "outputs": [],
   "source": []
  },
  {
   "cell_type": "code",
   "execution_count": null,
   "id": "bebd1fb6",
   "metadata": {},
   "outputs": [],
   "source": []
  },
  {
   "cell_type": "code",
   "execution_count": null,
   "id": "96ce84f5",
   "metadata": {},
   "outputs": [],
   "source": []
  },
  {
   "cell_type": "code",
   "execution_count": null,
   "id": "82c5b7c9",
   "metadata": {},
   "outputs": [],
   "source": []
  },
  {
   "cell_type": "code",
   "execution_count": null,
   "id": "3d078b4b",
   "metadata": {},
   "outputs": [],
   "source": []
  },
  {
   "cell_type": "code",
   "execution_count": null,
   "id": "52c45f66",
   "metadata": {},
   "outputs": [],
   "source": []
  }
 ],
 "metadata": {
  "kernelspec": {
   "display_name": "venv",
   "language": "python",
   "name": "python3"
  },
  "language_info": {
   "codemirror_mode": {
    "name": "ipython",
    "version": 3
   },
   "file_extension": ".py",
   "mimetype": "text/x-python",
   "name": "python",
   "nbconvert_exporter": "python",
   "pygments_lexer": "ipython3",
   "version": "3.13.5"
  }
 },
 "nbformat": 4,
 "nbformat_minor": 5
}
